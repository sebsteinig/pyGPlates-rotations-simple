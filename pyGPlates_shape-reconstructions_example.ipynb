{
 "cells": [
  {
   "cell_type": "markdown",
   "id": "f3f7adc5",
   "metadata": {
    "colab_type": "text",
    "id": "view-in-github",
    "tags": []
   },
   "source": [
    "<a href=\"https://colab.research.google.com/github/sebsteinig/pyGPlates-reconstructions-template/blob/main/pyGPlates_shape-reconstructions_example.ipynb\" target=\"_parent\"><img src=\"https://colab.research.google.com/assets/colab-badge.svg\" alt=\"Open In Colab\"/></a>"
   ]
  },
  {
   "cell_type": "markdown",
   "id": "e3e04fe8-9fb9-4e10-8c80-1143682b3ffc",
   "metadata": {},
   "source": [
    "# pyGPlates shape reconstructions\n",
    "Reconstruct shapes (defined as list of individual points) of present-day locations across the Phanerozoic. PyGplates allows to use some of the functionality of the GUI GPlates software within python scripts. This allows scripting to automatically process many different locations and/or time periods. Different rotation models can be used and are easily exchangeable. I currently use the PALEOMAP rotation model that is consistent to the Bristol Scotese simulations by Paul Valdes."
   ]
  },
  {
   "cell_type": "markdown",
   "id": "b4c77a9b-587f-454c-a90a-024912aa4060",
   "metadata": {},
   "source": [
    "## Prelude (only necesseary when running on Google Colab)\n",
    "If running on Google Colab, execute the following cell to download the repo and install pyGPlates on the virtual machine. \n",
    "\n",
    "If running somewhere else, you can execute the whole notebooks and this part will be skipped automatically."
   ]
  },
  {
   "cell_type": "code",
   "execution_count": 1,
   "id": "da9750a6-abd1-47fd-a1a4-875982a67d90",
   "metadata": {},
   "outputs": [],
   "source": [
    "# detect if we are running on colab\n",
    "try:\n",
    "    import google.colab\n",
    "    IN_COLAB = True\n",
    "except:\n",
    "    IN_COLAB = False\n",
    "\n",
    "if IN_COLAB:\n",
    "# configure environment on Colab\n",
    "    import google.colab\n",
    "\n",
    "    # if on Colab, clone the repository to access the data locally\n",
    "    import os\n",
    "    repo = \"pyGPlates-reconstructions-template\"\n",
    "\n",
    "    # clone repo if it does not already exist\n",
    "    if not os.path.exists(repo):\n",
    "        print('cloning GitHub repository '+repo)\n",
    "        !git clone https://github.com/sebsteinig/{repo}.git\n",
    "  \n",
    "    %cd {repo}\n",
    "    \n",
    "    # install pygplates\n",
    "    !sudo apt install ./bin/pygplates_0.36.0_py36_ubuntu-18.04-amd64.deb\n",
    "    "
   ]
  },
  {
   "cell_type": "markdown",
   "id": "6e991c20-c7f3-4233-b143-44411c613f9d",
   "metadata": {},
   "source": [
    "## User input\n",
    "define variables/lists to quickly change inputs to the notebook"
   ]
  },
  {
   "cell_type": "code",
   "execution_count": 8,
   "id": "44853eaf-bc9c-4f72-8328-a83d9653ffc2",
   "metadata": {},
   "outputs": [],
   "source": [
    "# input csv file with label, modern latitude, modern longitude\n",
    "files_input_shapes = ['example_shape1', 'example_shape2']\n",
    "\n",
    "# list of ages (in Ma) for which we want to reconstruct paleolocations for the input sites\n",
    "ages           = ['0', '100', '200', '300']\n",
    "\n",
    "\n"
   ]
  },
  {
   "cell_type": "markdown",
   "id": "599af786-b4f7-450d-b80b-884a0c402067",
   "metadata": {},
   "source": [
    "## import pygplates and other packages"
   ]
  },
  {
   "cell_type": "code",
   "execution_count": 3,
   "id": "f7c604eb-26b6-45c9-aa30-a255373b6044",
   "metadata": {},
   "outputs": [],
   "source": [
    "import os\n",
    "import sys\n",
    "import pandas as pd\n",
    "import csv\n",
    "\n",
    "# add pygplates to python path\n",
    "if IN_COLAB:\n",
    "    sys.path.insert(0, os.path.abspath('/usr/lib')) # ubuntu VM on colab\n",
    "else:\n",
    "    sys.path.insert(0, os.path.abspath('./bin/pygplates_0.36.0_py37_Darwin-x86_64')) # macOS Intel \n",
    "import pygplates\n",
    "\n",
    "\n"
   ]
  },
  {
   "cell_type": "markdown",
   "id": "f8f03dcd-f01a-47e6-bcf5-3b6684cf28fa",
   "metadata": {},
   "source": [
    "## load plate model\n",
    "List of available models at http://portal.gplates.org/portal/rotation_models/.\n",
    "Here we are using the 'PALEOMAP PaleoAtlas for GPlates'by Scotese et al. (https://www.earthbyte.org/paleomap-paleoatlas-for-gplates/)"
   ]
  },
  {
   "cell_type": "code",
   "execution_count": 4,
   "id": "WcMt0hmK_38Q",
   "metadata": {
    "colab": {
     "base_uri": "https://localhost:8080/"
    },
    "id": "WcMt0hmK_38Q",
    "outputId": "1ca62e3a-a818-48f8-aea4-d2827f558cdb"
   },
   "outputs": [],
   "source": [
    "# static polygons are the 'partitioning features'\n",
    "static_polygons = pygplates.FeatureCollection('PALEOMAP_Global_Plate_Model/PALEOMAP_PlatePolygons.gpml')\n",
    "# actual rotation model\n",
    "rotation_model=pygplates.RotationModel('PALEOMAP_Global_Plate_Model/PALEOMAP_PlateModel.rot')"
   ]
  },
  {
   "cell_type": "markdown",
   "id": "9cea8cfa-504b-4fd2-a6fb-fbe02829d363",
   "metadata": {},
   "source": [
    "## Main code\n",
    "4-step process to reconstruct paleolocations:\n",
    "1. combine input points into feature collection\n",
    "2. create polygon from points\n",
    "3. assign plate ids to features\n",
    "4. reconstruct paleolocations for features"
   ]
  },
  {
   "cell_type": "code",
   "execution_count": 10,
   "id": "bd729772-cf62-44b4-9803-aa4646174491",
   "metadata": {
    "lines_to_next_cell": 2
   },
   "outputs": [
    {
     "name": "stdout",
     "output_type": "stream",
     "text": [
      "Directory  ./reconstructions/0Ma  Created \n",
      "Directory  ./reconstructions/100Ma  Created \n",
      "Directory  ./reconstructions/200Ma  Created \n",
      "Directory  ./reconstructions/300Ma  Created \n",
      "Directory  ./reconstructions/0Ma  already exists\n",
      "Directory  ./reconstructions/100Ma  already exists\n",
      "Directory  ./reconstructions/200Ma  already exists\n",
      "Directory  ./reconstructions/300Ma  already exists\n"
     ]
    }
   ],
   "source": [
    "# loop over all input shapes\n",
    "for shapeCount, shapeName in enumerate(files_input_shapes):\n",
    "    \n",
    "    # load shapes coordinates\n",
    "    df_shape = pd.read_csv('data/'+ shapeName +'.csv',sep=',')\n",
    "    \n",
    "    for ageCount, age in enumerate(ages):\n",
    "\n",
    "        # Create output directories & all intermediate directories if don't exists\n",
    "        output_dir = './reconstructions/'+ ages[ageCount] + 'Ma'\n",
    "        if not os.path.exists(output_dir):\n",
    "            os.makedirs(output_dir)\n",
    "            print(\"Directory \" , output_dir ,  \" Created \")\n",
    "        else:    \n",
    "            print(\"Directory \" , output_dir ,  \" already exists\") \n",
    "\n",
    "        # put the points into a feature collection, using Lat,Lon coordinates from dataframe\n",
    "        polygon_points = []\n",
    "        polygon_feature = []\n",
    "        for index,row in df_shape.iterrows():\n",
    "            point = pygplates.PointOnSphere(float(row.LAT),float(row.LON))\n",
    "            polygon_points.append(point)\n",
    "\n",
    "        #add_polyline_feature_from_points(polyline_features, polyline_points, row)\n",
    "        polygon = pygplates.PolygonOnSphere(polygon_points)\n",
    "        polygon_feature = pygplates.Feature() # 'unclassified' feature\n",
    "        polygon_feature.set_geometry(polygon)\n",
    "\n",
    "        # The partition points function can then be used as before\n",
    "        partitioned_polygon_feature = pygplates.partition_into_plates(static_polygons, rotation_model, polygon_feature) \n",
    "\n",
    "        # Reconstruct the shapes\n",
    "        reconstructed_polyline_feature_geometries = []\n",
    "        pygplates.reconstruct(partitioned_polygon_feature, rotation_model, output_dir +'/' + shapeName + '_' + ages[ageCount] +'Ma.shp', float(ages[ageCount]) ) "
   ]
  }
 ],
 "metadata": {
  "colab": {
   "collapsed_sections": [],
   "include_colab_link": true,
   "provenance": []
  },
  "jupytext": {
   "formats": "ipynb,py:light"
  },
  "kernelspec": {
   "display_name": "Python 3 (ipykernel)",
   "language": "python",
   "name": "python3"
  },
  "language_info": {
   "codemirror_mode": {
    "name": "ipython",
    "version": 3
   },
   "file_extension": ".py",
   "mimetype": "text/x-python",
   "name": "python",
   "nbconvert_exporter": "python",
   "pygments_lexer": "ipython3",
   "version": "3.7.0"
  }
 },
 "nbformat": 4,
 "nbformat_minor": 5
}
